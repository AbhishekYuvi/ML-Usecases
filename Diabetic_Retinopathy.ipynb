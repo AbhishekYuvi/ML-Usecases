{
  "nbformat": 4,
  "nbformat_minor": 0,
  "metadata": {
    "colab": {
      "name": "Diabetic Retinopathy.ipynb",
      "provenance": []
    },
    "kernelspec": {
      "name": "python3",
      "display_name": "Python 3"
    },
    "language_info": {
      "name": "python"
    },
    "accelerator": "GPU"
  },
  "cells": [
    {
      "cell_type": "code",
      "metadata": {
        "colab": {
          "base_uri": "https://localhost:8080/"
        },
        "id": "0G6hYfvSwcsm",
        "outputId": "4fe21159-13e8-4d0b-b92f-86d056f0fd54"
      },
      "source": [
        "from google.colab import drive\n",
        "drive.mount(\"/content/gdrive\")\n",
        "\n",
        "#Data Source: https://drive.google.com/drive/folders/1tDkBFSXJz2bFcGR4AHW1nc8g1hLt_WVr?usp=sharing"
      ],
      "execution_count": null,
      "outputs": [
        {
          "output_type": "stream",
          "name": "stdout",
          "text": [
            "Mounted at /content/gdrive\n"
          ]
        }
      ]
    },
    {
      "cell_type": "code",
      "metadata": {
        "id": "LGkoC5pyw2ba"
      },
      "source": [
        "TRAIN_PATH = \"/content/gdrive/MyDrive/Neha/Train\"\n",
        "VAL_PATH = \"/content/gdrive/MyDrive/Neha/Validate\""
      ],
      "execution_count": null,
      "outputs": []
    },
    {
      "cell_type": "code",
      "metadata": {
        "id": "BpebW5-vxKfR"
      },
      "source": [
        "import glob"
      ],
      "execution_count": null,
      "outputs": []
    },
    {
      "cell_type": "code",
      "metadata": {
        "id": "qaraEG8sxL66"
      },
      "source": [
        "test = []\n",
        "for i in glob.glob(\"/content/gdrive/MyDrive/Neha/Train/one/*\"):\n",
        "  test.append(i)"
      ],
      "execution_count": null,
      "outputs": []
    },
    {
      "cell_type": "code",
      "metadata": {
        "colab": {
          "base_uri": "https://localhost:8080/"
        },
        "id": "nSsQ34hExNGr",
        "outputId": "08c84713-cd98-4c85-bf6a-39f6b3681b7a"
      },
      "source": [
        "len(test)"
      ],
      "execution_count": null,
      "outputs": [
        {
          "output_type": "execute_result",
          "data": {
            "text/plain": [
              "2816"
            ]
          },
          "metadata": {},
          "execution_count": 5
        }
      ]
    },
    {
      "cell_type": "code",
      "metadata": {
        "id": "9FSon_jMxOTc"
      },
      "source": [
        "test1 = []\n",
        "for i in glob.glob(\"/content/gdrive/MyDrive/Neha/Train/zero/*\"):\n",
        "  test1.append(i)"
      ],
      "execution_count": null,
      "outputs": []
    },
    {
      "cell_type": "code",
      "metadata": {
        "colab": {
          "base_uri": "https://localhost:8080/"
        },
        "id": "wYdYmTZ_xQVw",
        "outputId": "78b4e4b0-8831-44d6-ee31-2cfc79b851de"
      },
      "source": [
        "len(test1)"
      ],
      "execution_count": null,
      "outputs": [
        {
          "output_type": "execute_result",
          "data": {
            "text/plain": [
              "3267"
            ]
          },
          "metadata": {},
          "execution_count": 7
        }
      ]
    },
    {
      "cell_type": "code",
      "metadata": {
        "id": "2otbZpZci53k"
      },
      "source": [
        "import numpy as np\n",
        "import matplotlib.pyplot as plt\n",
        "import keras\n",
        "from keras.layers import *\n",
        "from keras.models import *\n",
        "from keras.preprocessing.image import ImageDataGenerator, load_img, img_to_array"
      ],
      "execution_count": null,
      "outputs": []
    },
    {
      "cell_type": "code",
      "metadata": {
        "id": "AzhCZaMaeYzx"
      },
      "source": [
        "# CNN Based Model in Keras\n",
        "\n",
        "model = Sequential()\n",
        "model.add(Conv2D(32,kernel_size=(3,3),activation='relu',input_shape=(224,224,3)))\n",
        "model.add(Conv2D(64,(3,3),activation='relu'))\n",
        "model.add(MaxPooling2D(pool_size=(2,2)))\n",
        "model.add(Dropout(0.25))\n",
        "\n",
        "model.add(Conv2D(64,(3,3),activation='relu'))\n",
        "model.add(MaxPooling2D(pool_size=(2,2)))\n",
        "\n",
        "model.add(Flatten())\n",
        "model.add(Dense(64,activation='relu'))\n",
        "model.add(Dropout(0.1))\n",
        "model.add(Dense(2,activation='softmax'))\n",
        "\n",
        "model.compile(loss=keras.losses.binary_crossentropy,optimizer='adam',metrics=['accuracy'])"
      ],
      "execution_count": null,
      "outputs": []
    },
    {
      "cell_type": "code",
      "metadata": {
        "colab": {
          "base_uri": "https://localhost:8080/"
        },
        "id": "eac5eXVTebTC",
        "outputId": "f43ce892-1e36-49e4-c1bb-e0d808237e8c"
      },
      "source": [
        "model.summary()"
      ],
      "execution_count": null,
      "outputs": [
        {
          "output_type": "stream",
          "name": "stdout",
          "text": [
            "Model: \"sequential\"\n",
            "_________________________________________________________________\n",
            "Layer (type)                 Output Shape              Param #   \n",
            "=================================================================\n",
            "conv2d (Conv2D)              (None, 222, 222, 32)      896       \n",
            "_________________________________________________________________\n",
            "conv2d_1 (Conv2D)            (None, 220, 220, 64)      18496     \n",
            "_________________________________________________________________\n",
            "max_pooling2d (MaxPooling2D) (None, 110, 110, 64)      0         \n",
            "_________________________________________________________________\n",
            "dropout (Dropout)            (None, 110, 110, 64)      0         \n",
            "_________________________________________________________________\n",
            "conv2d_2 (Conv2D)            (None, 108, 108, 64)      36928     \n",
            "_________________________________________________________________\n",
            "max_pooling2d_1 (MaxPooling2 (None, 54, 54, 64)        0         \n",
            "_________________________________________________________________\n",
            "flatten (Flatten)            (None, 186624)            0         \n",
            "_________________________________________________________________\n",
            "dense (Dense)                (None, 64)                11944000  \n",
            "_________________________________________________________________\n",
            "dropout_1 (Dropout)          (None, 64)                0         \n",
            "_________________________________________________________________\n",
            "dense_1 (Dense)              (None, 2)                 130       \n",
            "=================================================================\n",
            "Total params: 12,000,450\n",
            "Trainable params: 12,000,450\n",
            "Non-trainable params: 0\n",
            "_________________________________________________________________\n"
          ]
        }
      ]
    },
    {
      "cell_type": "code",
      "metadata": {
        "id": "7j6k2rBnecS7"
      },
      "source": [
        "from keras.preprocessing import image\n",
        "\n",
        "# Train from scratch\n",
        "train_datagen = image.ImageDataGenerator(\n",
        "    rescale = 1./255,\n",
        "    shear_range = 0.2,\n",
        "    zoom_range = 0.2,\n",
        "    horizontal_flip = True,\n",
        ")\n",
        "\n",
        "test_dataset = image.ImageDataGenerator(rescale=1./255)"
      ],
      "execution_count": null,
      "outputs": []
    },
    {
      "cell_type": "code",
      "metadata": {
        "colab": {
          "base_uri": "https://localhost:8080/"
        },
        "id": "nqmbkS6secPy",
        "outputId": "324f524c-d408-44c5-e11c-6fbbf92869c0"
      },
      "source": [
        "train_generator = train_datagen.flow_from_directory(\n",
        "    '/content/gdrive/MyDrive/Neha/Train',\n",
        "    target_size = (224,224),\n",
        "    batch_size = 32,\n",
        "    class_mode = 'categorical')"
      ],
      "execution_count": null,
      "outputs": [
        {
          "output_type": "stream",
          "name": "stdout",
          "text": [
            "Found 6083 images belonging to 2 classes.\n"
          ]
        }
      ]
    },
    {
      "cell_type": "code",
      "metadata": {
        "colab": {
          "base_uri": "https://localhost:8080/"
        },
        "id": "odYGNFd_ecM9",
        "outputId": "f01e8421-0821-470b-e51c-9c9f15ac27b2"
      },
      "source": [
        "train_generator.class_indices"
      ],
      "execution_count": null,
      "outputs": [
        {
          "output_type": "execute_result",
          "data": {
            "text/plain": [
              "{'one': 0, 'zero': 1}"
            ]
          },
          "metadata": {},
          "execution_count": 13
        }
      ]
    },
    {
      "cell_type": "code",
      "metadata": {
        "colab": {
          "base_uri": "https://localhost:8080/"
        },
        "id": "zOZgTEvPecKY",
        "outputId": "be1ff262-fdc5-44b7-a965-3cef6a28be63"
      },
      "source": [
        "validation_generator = test_dataset.flow_from_directory(\n",
        "    '/content/gdrive/MyDrive/Neha/Validate',\n",
        "    target_size = (224,224),\n",
        "    batch_size = 32,\n",
        "    class_mode = 'categorical' )"
      ],
      "execution_count": null,
      "outputs": [
        {
          "output_type": "stream",
          "name": "stdout",
          "text": [
            "Found 1431 images belonging to 2 classes.\n"
          ]
        }
      ]
    },
    {
      "cell_type": "code",
      "metadata": {
        "id": "hgKv_w-JecIH",
        "colab": {
          "base_uri": "https://localhost:8080/"
        },
        "outputId": "3fa37c18-0d8b-4982-ee4c-c21e60dd4fb8"
      },
      "source": [
        "tf.config.run_functions_eagerly(True)\n",
        "\n",
        "hist = model.fit(\n",
        "    train_generator,\n",
        "    steps_per_epoch=len(train_generator),\n",
        "    epochs = 1,  \n",
        "    validation_data = validation_generator,\n",
        "    validation_steps=len(validation_generator)\n",
        ")\n",
        "\n",
        "model.save(\"/content/gdrive/MyDrive/Neha/Validate/dr_model_cnn.h5\")"
      ],
      "execution_count": null,
      "outputs": [
        {
          "output_type": "stream",
          "name": "stderr",
          "text": [
            "/usr/local/lib/python3.7/dist-packages/tensorflow/python/data/ops/dataset_ops.py:4212: UserWarning: Even though the `tf.config.experimental_run_functions_eagerly` option is set, this option does not apply to tf.data functions. To force eager execution of tf.data functions, please use `tf.data.experimental.enable_debug_mode()`.\n",
            "  \"Even though the `tf.config.experimental_run_functions_eagerly` \"\n"
          ]
        },
        {
          "output_type": "stream",
          "name": "stdout",
          "text": [
            "107/191 [===============>..............] - ETA: 53:18 - loss: 0.6962 - accuracy: 0.5348"
          ]
        }
      ]
    },
    {
      "cell_type": "code",
      "metadata": {
        "id": "rfj4Fp_AecFI"
      },
      "source": [
        "\n",
        "\n",
        "model = tf.keras.models.load_model(\"/content/gdrive/MyDrive/Neha/Validate/dr_model_cnn.h5\")\n",
        "import glob\n",
        "test = []\n",
        "for i in glob.glob(\"/content/gdrive/MyDrive/Neha/Validate/one/*\"):\n",
        "  testing = load_img(i, target_size=(224,224))\n",
        "  testing\n",
        "  x = img_to_array(testing)\n",
        "  x = x/255\n",
        "  x = np.expand_dims(x, axis=0)\n",
        "\n",
        "  #model.predict_classes(x))\n",
        "  predict_x=model.predict(x)\n",
        "  classes_x=np.argmax(predict_x,axis=1)\n",
        "  print(classes_x)\n",
        "  print(model.predict(x))#confidence score"
      ],
      "execution_count": null,
      "outputs": []
    },
    {
      "cell_type": "code",
      "metadata": {
        "id": "lbsZzcDHecCX"
      },
      "source": [
        "import glob\n",
        "test = []\n",
        "for i in glob.glob(\"/content/gdrive/MyDrive/Neha/Validate/zero/*\"):\n",
        "  testing = load_img(i, target_size=(224,224))\n",
        "  testing\n",
        "  x = img_to_array(testing)\n",
        "  x = x/255\n",
        "  x = np.expand_dims(x, axis=0)\n",
        "  predict_x=model.predict(x)\n",
        "  classes_x=np.argmax(predict_x,axis=1)\n",
        "  print(classes_x)\n",
        "  #print(model.predict_classes(x))\n",
        "  print(model.predict(x))#confidence score"
      ],
      "execution_count": null,
      "outputs": []
    },
    {
      "cell_type": "code",
      "metadata": {
        "id": "KmafvVzOcPIV"
      },
      "source": [
        "model"
      ],
      "execution_count": null,
      "outputs": []
    },
    {
      "cell_type": "code",
      "metadata": {
        "id": "DCu6ZN3mcQYf"
      },
      "source": [
        "import sklearn.metrics as metrics\n",
        "\n",
        "Y_test = []\n",
        "prediction_cnn = []\n",
        "\n",
        "print('Confusion Matrix: CNN')\n",
        "print(metrics.confusion_matrix(Y_test, prediction_cnn))\n",
        "print('\\nClassification Report:')\n",
        "print(metrics.classification_report(Y_test, prediction_cnn))"
      ],
      "execution_count": null,
      "outputs": []
    }
  ]
}